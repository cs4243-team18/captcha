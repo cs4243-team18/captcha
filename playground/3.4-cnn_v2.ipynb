{
 "cells": [
  {
   "cell_type": "markdown",
   "metadata": {},
   "source": [
    "### 1. Load CATPCHA images and get the transformed (X,y) data"
   ]
  },
  {
   "cell_type": "code",
   "execution_count": 1,
   "metadata": {},
   "outputs": [
    {
     "name": "stdout",
     "output_type": "stream",
     "text": [
      "Loaded prepared data from cache.\n"
     ]
    }
   ],
   "source": [
    "import torch\n",
    "\n",
    "from helper_functions.data_transformation import get_transformed_data_v2, get_transformed_data_for_captcha_evaluation\n",
    "\n",
    "train_folder = \"../data/train/combine\"\n",
    "test_folder = \"../data/test/combine\"\n",
    "cached_data_path = \"../data/prepared_data_cnn_v2.pth\"\n",
    "\n",
    "try:\n",
    "    # Load the prepared data from cache if it already exists\n",
    "    X_train, y_train, X_test, y_test, X_test_captcha, y_test_captcha, num_failed_segmentations = torch.load(cached_data_path)\n",
    "    print(\"Loaded prepared data from cache.\")\n",
    "\n",
    "except FileNotFoundError:\n",
    "    # Else prepare the data and save it\n",
    "    X_train, y_train = get_transformed_data_v2(train_folder, is_train=True)\n",
    "    X_test, y_test = get_transformed_data_v2(test_folder, is_train=False)\n",
    "    X_test_captcha, y_test_captcha, num_failed_segmentations = get_transformed_data_for_captcha_evaluation(test_folder)\n",
    "\n",
    "    torch.save((X_train, y_train, X_test, y_test, X_test_captcha, y_test_captcha, num_failed_segmentations), cached_data_path)\n",
    "    print(\"Saved prepared data to cache.\")\n"
   ]
  },
  {
   "cell_type": "markdown",
   "metadata": {},
   "source": [
    "### 2. Instantiate basic CNN model and train it"
   ]
  },
  {
   "cell_type": "code",
   "execution_count": null,
   "metadata": {},
   "outputs": [
    {
     "name": "stdout",
     "output_type": "stream",
     "text": [
      "Loaded trained model from cache.\n"
     ]
    }
   ],
   "source": [
    "from models.cnn_v2 import CNN, CNNParams\n",
    "from helper_functions.data_transformation import IMG_HEIGHT, IMG_WIDTH\n",
    "\n",
    "\n",
    "# Instantiate model\n",
    "cnn_params: CNNParams = {\n",
    "    \"num_classes\": 36,\n",
    "    \"input_shape\": (1, IMG_HEIGHT, IMG_WIDTH), # (channels, height, width)\n",
    "    \"learning_rate\": 1.1*1e-3,\n",
    "    \"num_epochs\": 10,\n",
    "    \"batch_size\": 500,\n",
    "}\n",
    "cnn = CNN(cnn_params)\n",
    "\n",
    "# Train model\n",
    "cached_model_path = \"../trained_models/cnn_v2.pth\"\n",
    "try:\n",
    "    # Load the trained model from cache if it already exists\n",
    "    cnn.load_trained_model(cached_model_path)\n",
    "    print(\"Loaded trained model from cache.\")\n",
    "except FileNotFoundError:\n",
    "    # Else train the model and save it\n",
    "    cnn.train_model(X_train, y_train)\n",
    "    cnn.save_trained_model(cached_model_path)\n",
    "    print(\"Saved trained model to cache.\")\n"
   ]
  },
  {
   "cell_type": "markdown",
   "metadata": {},
   "source": [
    "### 3. Evaluate CNN model"
   ]
  },
  {
   "cell_type": "code",
   "execution_count": 7,
   "metadata": {},
   "outputs": [
    {
     "name": "stdout",
     "output_type": "stream",
     "text": [
      "Character level performance (skipping failed segmentations): {\n",
      "  \"accuracy\": 0.8502528199144301,\n",
      "  \"precision\": 0.8535853610955613,\n",
      "  \"recall\": 0.8468230654619362,\n",
      "  \"f1_score\": 0.8487479860664281\n",
      "}\n",
      "\n",
      "Captcha level performance (including failed segmentations): {\n",
      "  \"captcha_accuracy\": 0.35744456177402323,\n",
      "  \"character_accuracy\": 0.7828665888759238,\n",
      "  \"segmentation_accuracy\": 0.9091869060190074\n",
      "}\n"
     ]
    }
   ],
   "source": [
    "import json\n",
    "from helper_functions.evaluation import evaluate_character_performance, evaluate_captcha_performance\n",
    "\n",
    "character_performance = evaluate_character_performance(cnn.model, X_test, y_test)\n",
    "print(f\"Character level performance (skipping failed segmentations): {json.dumps(character_performance, indent=2)}\\n\")\n",
    "\n",
    "captcha_performance = evaluate_captcha_performance(cnn.model, X_test_captcha, y_test_captcha, num_failed_segmentations)\n",
    "print(f\"Captcha level performance (including failed segmentations): {json.dumps(captcha_performance, indent=2)}\")"
   ]
  }
 ],
 "metadata": {
  "kernelspec": {
   "display_name": "venv",
   "language": "python",
   "name": "python3"
  },
  "language_info": {
   "codemirror_mode": {
    "name": "ipython",
    "version": 3
   },
   "file_extension": ".py",
   "mimetype": "text/x-python",
   "name": "python",
   "nbconvert_exporter": "python",
   "pygments_lexer": "ipython3",
   "version": "3.10.1"
  }
 },
 "nbformat": 4,
 "nbformat_minor": 2
}
