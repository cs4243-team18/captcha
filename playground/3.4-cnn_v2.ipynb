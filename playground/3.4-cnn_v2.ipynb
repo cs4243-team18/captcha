{
 "cells": [
  {
   "cell_type": "markdown",
   "metadata": {},
   "source": [
    "### 1. Load CATPCHA images and get the transformed (X,y) data"
   ]
  },
  {
   "cell_type": "code",
   "execution_count": null,
   "metadata": {},
   "outputs": [
    {
     "name": "stdout",
     "output_type": "stream",
     "text": [
      "Prepared data loaded from cache.\n"
     ]
    }
   ],
   "source": [
    "import torch\n",
    "\n",
    "from helper_functions.data_transformation import get_transformed_data_v2\n",
    "\n",
    "train_folder = \"../data/train/combine\"\n",
    "test_folder = \"../data/test/combine\"\n",
    "cache_file = \"../data/prepared_data_cnn_v2.pth\"\n",
    "\n",
    "try:\n",
    "    # Load the prepared data from cache if it already exists\n",
    "    X_train, y_train, X_test, y_test = torch.load(cache_file)\n",
    "    print(\"Prepared data loaded from cache.\")\n",
    "\n",
    "except FileNotFoundError:\n",
    "    # Else prepare the data and save it\n",
    "    X_train, y_train = get_transformed_data_v2(train_folder, is_train=True)\n",
    "    X_test, y_test = get_transformed_data_v2(test_folder, is_train=False)\n",
    "    torch.save((X_train, y_train, X_test, y_test), cache_file)\n",
    "    print(\"Prepared data saved to cache.\")\n"
   ]
  },
  {
   "cell_type": "markdown",
   "metadata": {},
   "source": [
    "### 2. Instantiate basic CNN model and train it"
   ]
  },
  {
   "cell_type": "code",
   "execution_count": null,
   "metadata": {},
   "outputs": [
    {
     "name": "stdout",
     "output_type": "stream",
     "text": [
      "Epoch 1/100, Loss: 3.4982802867889404\n",
      "Epoch 2/100, Loss: 3.273711919784546\n",
      "Epoch 3/100, Loss: 3.1655123233795166\n",
      "Epoch 4/100, Loss: 3.118616819381714\n",
      "Epoch 5/100, Loss: 3.092092990875244\n",
      "Epoch 6/100, Loss: 3.0676965713500977\n",
      "Epoch 7/100, Loss: 3.037986993789673\n",
      "Epoch 8/100, Loss: 3.0110995769500732\n",
      "Epoch 9/100, Loss: 2.9903995990753174\n",
      "Epoch 10/100, Loss: 2.9781715869903564\n",
      "Epoch 11/100, Loss: 2.969245195388794\n",
      "Epoch 12/100, Loss: 2.9577560424804688\n",
      "Epoch 13/100, Loss: 2.951892614364624\n",
      "Epoch 14/100, Loss: 2.9403748512268066\n",
      "Epoch 15/100, Loss: 2.9300918579101562\n",
      "Epoch 16/100, Loss: 2.918457269668579\n",
      "Epoch 17/100, Loss: 2.914971113204956\n",
      "Epoch 18/100, Loss: 2.9116051197052\n",
      "Epoch 19/100, Loss: 2.9067227840423584\n",
      "Epoch 20/100, Loss: 2.900538206100464\n",
      "Epoch 21/100, Loss: 2.8964920043945312\n",
      "Epoch 22/100, Loss: 2.8932082653045654\n",
      "Epoch 23/100, Loss: 2.88936185836792\n",
      "Epoch 24/100, Loss: 2.8869900703430176\n",
      "Epoch 25/100, Loss: 2.883516550064087\n",
      "Epoch 26/100, Loss: 2.8795738220214844\n",
      "Epoch 27/100, Loss: 2.8797976970672607\n",
      "Epoch 28/100, Loss: 2.8755083084106445\n",
      "Epoch 29/100, Loss: 2.8717281818389893\n",
      "Epoch 30/100, Loss: 2.867396593093872\n",
      "Epoch 31/100, Loss: 2.8637964725494385\n",
      "Epoch 32/100, Loss: 2.861572504043579\n",
      "Epoch 33/100, Loss: 2.8575544357299805\n",
      "Epoch 34/100, Loss: 2.8567020893096924\n",
      "Epoch 35/100, Loss: 2.8558008670806885\n",
      "Epoch 36/100, Loss: 2.8514442443847656\n",
      "Epoch 37/100, Loss: 2.851107358932495\n",
      "Epoch 38/100, Loss: 2.848836898803711\n",
      "Epoch 39/100, Loss: 2.8479113578796387\n",
      "Epoch 40/100, Loss: 2.8464982509613037\n",
      "Epoch 41/100, Loss: 2.845090389251709\n",
      "Epoch 42/100, Loss: 2.8416409492492676\n",
      "Epoch 43/100, Loss: 2.839930534362793\n",
      "Epoch 44/100, Loss: 2.840020179748535\n",
      "Epoch 45/100, Loss: 2.8391878604888916\n",
      "Epoch 46/100, Loss: 2.838087797164917\n",
      "Epoch 47/100, Loss: 2.8353254795074463\n",
      "Epoch 48/100, Loss: 2.8347554206848145\n",
      "Epoch 49/100, Loss: 2.835752248764038\n",
      "Epoch 50/100, Loss: 2.831524610519409\n",
      "Epoch 51/100, Loss: 2.8309736251831055\n",
      "Epoch 52/100, Loss: 2.8311779499053955\n",
      "Epoch 53/100, Loss: 2.831331253051758\n",
      "Epoch 54/100, Loss: 2.828646421432495\n",
      "Epoch 55/100, Loss: 2.827467918395996\n",
      "Epoch 56/100, Loss: 2.8265225887298584\n",
      "Epoch 57/100, Loss: 2.826840400695801\n",
      "Epoch 58/100, Loss: 2.825913906097412\n",
      "Epoch 59/100, Loss: 2.8241145610809326\n",
      "Epoch 60/100, Loss: 2.8251259326934814\n",
      "Epoch 61/100, Loss: 2.8237011432647705\n",
      "Epoch 62/100, Loss: 2.8237900733947754\n",
      "Epoch 63/100, Loss: 2.82066011428833\n",
      "Epoch 64/100, Loss: 2.82021427154541\n",
      "Epoch 65/100, Loss: 2.818706512451172\n",
      "Epoch 66/100, Loss: 2.8150267601013184\n",
      "Epoch 67/100, Loss: 2.813701868057251\n",
      "Epoch 68/100, Loss: 2.810736894607544\n",
      "Epoch 69/100, Loss: 2.811610460281372\n",
      "Epoch 70/100, Loss: 2.813772439956665\n",
      "Epoch 71/100, Loss: 2.8079397678375244\n",
      "Epoch 72/100, Loss: 2.8080170154571533\n",
      "Epoch 73/100, Loss: 2.8086400032043457\n",
      "Epoch 74/100, Loss: 2.8066179752349854\n",
      "Epoch 75/100, Loss: 2.8047780990600586\n",
      "Epoch 76/100, Loss: 2.8039870262145996\n",
      "Epoch 77/100, Loss: 2.8042263984680176\n",
      "Epoch 78/100, Loss: 2.8028955459594727\n",
      "Epoch 79/100, Loss: 2.8025906085968018\n",
      "Epoch 80/100, Loss: 2.8000259399414062\n",
      "Epoch 81/100, Loss: 2.8022568225860596\n",
      "Epoch 82/100, Loss: 2.8007824420928955\n",
      "Epoch 83/100, Loss: 2.8015928268432617\n",
      "Epoch 84/100, Loss: 2.7987678050994873\n",
      "Epoch 85/100, Loss: 2.799348831176758\n",
      "Epoch 86/100, Loss: 2.7981085777282715\n",
      "Epoch 87/100, Loss: 2.7972187995910645\n",
      "Epoch 88/100, Loss: 2.7946481704711914\n",
      "Epoch 89/100, Loss: 2.795685052871704\n",
      "Epoch 90/100, Loss: 2.7947516441345215\n",
      "Epoch 91/100, Loss: 2.7929184436798096\n",
      "Epoch 92/100, Loss: 2.782287120819092\n",
      "Epoch 93/100, Loss: 2.7787282466888428\n",
      "Epoch 94/100, Loss: 2.7769792079925537\n",
      "Epoch 95/100, Loss: 2.774644374847412\n",
      "Epoch 96/100, Loss: 2.774313449859619\n",
      "Epoch 97/100, Loss: 2.775695323944092\n",
      "Epoch 98/100, Loss: 2.77445650100708\n",
      "Epoch 99/100, Loss: 2.770557403564453\n",
      "Epoch 100/100, Loss: 2.772177219390869\n",
      "y_pred: [ 8  4  5 ... 29  8 18], y_test: [ 8  4  5 ... 27 24 18]\n",
      "{'accuracy': 0.8226589034449296, 'precision': 0.7870850453013604, 'recall': 0.8160785229049373, 'f1_score': 0.7987405519196729}\n"
     ]
    }
   ],
   "source": [
    "from helper_functions.models.cnn_v2 import CNN, CNNParams\n",
    "from helper_functions.data_transformation import IMG_HEIGHT, IMG_WIDTH\n",
    "\n",
    "cnn_params: CNNParams = {\n",
    "    \"num_classes\": 36,\n",
    "    \"input_shape\": (1, IMG_HEIGHT, IMG_WIDTH), # (channels, height, width)\n",
    "    \"learning_rate\": 1.1*1e-3,\n",
    "    \"num_epochs\": 100,\n",
    "    \"batch_size\": 1000,\n",
    "}\n",
    "\n",
    "cnn = CNN(cnn_params)\n",
    "cnn.train_model(X_train, y_train)\n",
    "torch.save(cnn)\n",
    "\n",
    "character_performance = cnn.evaluate_character_performance(X_test, y_test)\n",
    "print(character_performance)\n",
    "# print(\"F1 Score (macro): {0:.2f}\".format(f1_score(y_test, y_pred, average='macro'))\n"
   ]
  },
  {
   "cell_type": "markdown",
   "metadata": {},
   "source": []
  }
 ],
 "metadata": {
  "kernelspec": {
   "display_name": "venv",
   "language": "python",
   "name": "python3"
  },
  "language_info": {
   "codemirror_mode": {
    "name": "ipython",
    "version": 3
   },
   "file_extension": ".py",
   "mimetype": "text/x-python",
   "name": "python",
   "nbconvert_exporter": "python",
   "pygments_lexer": "ipython3",
   "version": "3.10.1"
  }
 },
 "nbformat": 4,
 "nbformat_minor": 2
}
