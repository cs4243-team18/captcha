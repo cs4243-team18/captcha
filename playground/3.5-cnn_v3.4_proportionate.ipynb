{
 "cells": [
  {
   "cell_type": "markdown",
   "id": "3da3c8cd",
   "metadata": {},
   "source": [
    "### 1. Load CATPCHA images and get the transformed (X,y) data"
   ]
  },
  {
   "cell_type": "code",
   "execution_count": null,
   "id": "b53b5fa0",
   "metadata": {},
   "outputs": [],
   "source": [
    "import torch\n",
    "\n",
    "from helper_functions.data_transformation import get_transformed_data_v1_proportionate, get_transformed_data_for_captcha_evaluation_v1_proportionate\n",
    "\n",
    "train_folder = \"../data/train/combine2\"\n",
    "test_folder = \"../data/test/combine2\"\n",
    "cached_data_path = \"../data/prepared_data_cnn_v3.4_proportionate.pth\"\n",
    "\n",
    "try:\n",
    "    # Load the prepared data from cache if it already exists\n",
    "    X_train, y_train, X_test, y_test, X_test_captcha, y_test_captcha, failed_segmentation_info = torch.load(cached_data_path)\n",
    "    print(\"Loaded prepared data from cache.\")\n",
    "\n",
    "except FileNotFoundError:\n",
    "    # Else prepare the data and save it\n",
    "    X_train, y_train = get_transformed_data_v1_proportionate(train_folder, is_train=True)\n",
    "    X_test, y_test = get_transformed_data_v1_proportionate(test_folder, is_train=False)\n",
    "    X_test_captcha, y_test_captcha, failed_segmentation_info = get_transformed_data_for_captcha_evaluation_v1_proportionate(test_folder)\n",
    "\n",
    "    torch.save((X_train, y_train, X_test, y_test, X_test_captcha, y_test_captcha, failed_segmentation_info), cached_data_path)\n",
    "    print(\"Saved prepared data to cache.\")\n"
   ]
  },
  {
   "cell_type": "markdown",
   "id": "320ff460",
   "metadata": {},
   "source": [
    "### 2. Instantiate basic CNN model and train it"
   ]
  },
  {
   "cell_type": "code",
   "execution_count": null,
   "id": "3e3b3a8b",
   "metadata": {},
   "outputs": [],
   "source": [
    "from models.cnn_v3 import CNN, CNNParams\n",
    "from helper_functions.data_transformation import IMG_HEIGHT, IMG_WIDTH\n",
    "\n",
    "\n",
    "# Instantiate model\n",
    "cnn_params: CNNParams = {\n",
    "    \"num_classes\": 36,\n",
    "    \"input_shape\": (1, IMG_HEIGHT, IMG_WIDTH), # (channels, height, width)\n",
    "    \"learning_rate\": 1.1*1e-3,\n",
    "    \"num_epochs\": 30,\n",
    "    \"batch_size\": 250,\n",
    "}\n",
    "cnn = CNN(cnn_params)\n",
    "\n",
    "# Train model\n",
    "cached_model_path = \"../trained_models/cnn_v3.4_proportionate.pth\"\n",
    "try:\n",
    "    # Load the trained model from cache if it already exists\n",
    "    cnn.load_trained_model(cached_model_path)\n",
    "except FileNotFoundError:\n",
    "    # Else train the model and save it\n",
    "    cnn.train_model(X_train, y_train)\n",
    "    cnn.save_trained_model(cached_model_path)\n"
   ]
  },
  {
   "cell_type": "markdown",
   "id": "7cd07f46",
   "metadata": {},
   "source": [
    "### 3. Evaluate CNN model"
   ]
  },
  {
   "cell_type": "code",
   "execution_count": null,
   "id": "977aa487",
   "metadata": {},
   "outputs": [],
   "source": [
    "from helper_functions.evaluation import evaluate_character_performance, evaluate_captcha_performance, evaluate_individual_character_performance\n",
    "\n",
    "evaluate_character_performance(cnn.model, X_test, y_test)\n",
    "evaluate_captcha_performance(cnn.model, X_test_captcha, y_test_captcha, failed_segmentation_info)\n",
    "evaluate_individual_character_performance(cnn.model, X_test, y_test)"
   ]
  }
 ],
 "metadata": {
  "kernelspec": {
   "display_name": "Python 3",
   "language": "python",
   "name": "python3"
  },
  "language_info": {
   "name": "python",
   "version": "3.10.4"
  }
 },
 "nbformat": 4,
 "nbformat_minor": 5
}
