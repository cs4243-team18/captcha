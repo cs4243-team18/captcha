{
 "cells": [
  {
   "cell_type": "markdown",
   "metadata": {},
   "source": [
    "# Basic CNN Pipeline"
   ]
  },
  {
   "cell_type": "markdown",
   "metadata": {},
   "source": [
    "### 1. Load and preprocess data"
   ]
  },
  {
   "cell_type": "code",
   "execution_count": null,
   "metadata": {},
   "outputs": [],
   "source": [
    "import torch\n",
    "import numpy as np\n",
    "\n",
    "from helper_functions.encode import (\n",
    "    prepare_training_data, CHARACTERS, \n",
    ")\n",
    "\n",
    "train_folder = \"../data/train/combine\"\n",
    "test_folder = \"../data/test/combine\"\n",
    "\n",
    "print(\"Preparing training data...\")\n",
    "X_train, _, y_train_onehot, _, _ = prepare_training_data(train_folder)\n",
    "y_train = torch.tensor(np.argmax(y_train_onehot, axis=1), dtype=torch.long)\n",
    "\n",
    "print(\"Preparing test data...\")\n",
    "X_test, _, y_test_onehot, _, _ = prepare_training_data(test_folder)\n",
    "y_test = torch.tensor(np.argmax(y_test_onehot, axis=1), dtype=torch.long)"
   ]
  },
  {
   "cell_type": "markdown",
   "metadata": {},
   "source": [
    "### 2. Instantiate basic CNN model and train it"
   ]
  },
  {
   "cell_type": "code",
   "execution_count": null,
   "metadata": {},
   "outputs": [],
   "source": [
    "import torch\n",
    "import torch.nn as nn\n",
    "import torch.optim as optim\n",
    "from torch.utils.data import DataLoader\n",
    "\n",
    "from helper_functions.models.basic_cnn import CharDataset, CNN\n",
    "\n",
    "\n",
    "# Create dataloaders\n",
    "train_loader = DataLoader(CharDataset(X_train, y_train), batch_size=32, shuffle=True)\n",
    "test_loader = DataLoader(CharDataset(X_test, y_test), batch_size=32, shuffle=False)\n",
    "\n",
    "# Initialize model\n",
    "device = torch.device('cuda' if torch.cuda.is_available() else 'cpu')\n",
    "model = CNN(num_classes=len(CHARACTERS)).to(device)\n",
    "criterion = nn.CrossEntropyLoss()\n",
    "optimizer = optim.Adam(model.parameters(), lr=0.001)\n",
    "\n",
    "# Training loop\n",
    "print(\"Training model...\")\n",
    "for epoch in range(15):\n",
    "    model.train()\n",
    "    running_loss = 0.0\n",
    "    for inputs, labels in train_loader:\n",
    "        inputs, labels = inputs.to(device), labels.to(device)\n",
    "    \n",
    "        optimizer.zero_grad()\n",
    "        outputs = model(inputs)\n",
    "        loss = criterion(outputs, labels)\n",
    "        loss.backward()\n",
    "        optimizer.step()\n",
    "        \n",
    "        running_loss += loss.item() * inputs.size(0)\n",
    "    \n",
    "    print(f\"Epoch {epoch+1} Loss: {running_loss/len(train_loader.dataset):.4f}\")\n"
   ]
  },
  {
   "cell_type": "code",
   "execution_count": null,
   "metadata": {},
   "outputs": [],
   "source": [
    "from helper_functions.models.basic_cnn import evaluate_character_level, evaluate_captcha_level\n",
    "\n",
    "\"\"\"\n",
    "3. Evaluate basic CNN model\n",
    "\"\"\"\n",
    "print(\"\\nCharacter-Level Evaluation:\")\n",
    "char_metrics = evaluate_character_level(model, test_loader, device)\n",
    "for metric, value in char_metrics.items():\n",
    "    print(f\"{metric.capitalize()}: {value:.4f}\")\n",
    "\n",
    "print(\"\\nCaptcha-Level Evaluation:\")\n",
    "captcha_acc = evaluate_captcha_level(model, test_folder, device)\n",
    "print(f\"Accuracy: {captcha_acc:.4f}\")"
   ]
  }
 ],
 "metadata": {
  "kernelspec": {
   "display_name": "venv",
   "language": "python",
   "name": "python3"
  },
  "language_info": {
   "codemirror_mode": {
    "name": "ipython",
    "version": 3
   },
   "file_extension": ".py",
   "mimetype": "text/x-python",
   "name": "python",
   "nbconvert_exporter": "python",
   "pygments_lexer": "ipython3",
   "version": "3.10.1"
  }
 },
 "nbformat": 4,
 "nbformat_minor": 2
}
