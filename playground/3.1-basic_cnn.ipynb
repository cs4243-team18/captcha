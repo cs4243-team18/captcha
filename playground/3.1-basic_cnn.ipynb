{
 "cells": [
  {
   "cell_type": "markdown",
   "metadata": {},
   "source": [
    "# Basic CNN Pipeline"
   ]
  },
  {
   "cell_type": "markdown",
   "metadata": {},
   "source": [
    "### 1. Load and preprocess data"
   ]
  },
  {
   "cell_type": "code",
   "execution_count": 1,
   "metadata": {},
   "outputs": [
    {
     "name": "stdout",
     "output_type": "stream",
     "text": [
      "Preparing training data...\n"
     ]
    },
    {
     "name": "stderr",
     "output_type": "stream",
     "text": [
      "Preparing Data: 100%|██████████| 7437/7437 [00:37<00:00, 197.87it/s]\n"
     ]
    },
    {
     "name": "stdout",
     "output_type": "stream",
     "text": [
      "Preparing test data...\n"
     ]
    },
    {
     "name": "stderr",
     "output_type": "stream",
     "text": [
      "Preparing Data: 100%|██████████| 1894/1894 [00:10<00:00, 182.67it/s]\n"
     ]
    }
   ],
   "source": [
    "import torch\n",
    "import numpy as np\n",
    "\n",
    "from helper_functions.encode import (\n",
    "    prepare_training_data, CHARACTERS, \n",
    ")\n",
    "\n",
    "train_folder = \"../data/train/combine\"\n",
    "test_folder = \"../data/test/combine\"\n",
    "\n",
    "print(\"Preparing training data...\")\n",
    "X_train, _, y_train_onehot, _, _ = prepare_training_data(train_folder)\n",
    "y_train = torch.tensor(np.argmax(y_train_onehot, axis=1), dtype=torch.long)\n",
    "\n",
    "print(\"Preparing test data...\")\n",
    "X_test, _, y_test_onehot, _, _ = prepare_training_data(test_folder)\n",
    "y_test = torch.tensor(np.argmax(y_test_onehot, axis=1), dtype=torch.long)"
   ]
  },
  {
   "cell_type": "markdown",
   "metadata": {},
   "source": [
    "### 2. Instantiate basic CNN model and train it"
   ]
  },
  {
   "cell_type": "code",
   "execution_count": 4,
   "metadata": {},
   "outputs": [
    {
     "name": "stdout",
     "output_type": "stream",
     "text": [
      "Training model...\n",
      "Epoch 1 Loss: 1.5879\n",
      "Epoch 2 Loss: 0.8562\n",
      "Epoch 3 Loss: 0.6842\n",
      "Epoch 4 Loss: 0.5763\n",
      "Epoch 5 Loss: 0.5010\n",
      "Epoch 6 Loss: 0.4395\n",
      "Epoch 7 Loss: 0.3888\n",
      "Epoch 8 Loss: 0.3436\n",
      "Epoch 9 Loss: 0.3105\n",
      "Epoch 10 Loss: 0.2778\n",
      "Epoch 11 Loss: 0.2465\n",
      "Epoch 12 Loss: 0.2259\n",
      "Epoch 13 Loss: 0.2048\n",
      "Epoch 14 Loss: 0.1894\n",
      "Epoch 15 Loss: 0.1676\n",
      "Epoch 16 Loss: 0.1553\n",
      "Epoch 17 Loss: 0.1472\n",
      "Epoch 18 Loss: 0.1287\n",
      "Epoch 19 Loss: 0.1242\n",
      "Epoch 20 Loss: 0.1164\n",
      "Epoch 21 Loss: 0.1080\n",
      "Epoch 22 Loss: 0.1068\n",
      "Epoch 23 Loss: 0.0932\n",
      "Epoch 24 Loss: 0.0960\n",
      "Epoch 25 Loss: 0.0872\n",
      "Epoch 26 Loss: 0.0902\n",
      "Epoch 27 Loss: 0.0873\n",
      "Epoch 28 Loss: 0.0696\n",
      "Epoch 29 Loss: 0.0779\n",
      "Epoch 30 Loss: 0.0777\n",
      "Epoch 31 Loss: 0.0736\n",
      "Epoch 32 Loss: 0.0656\n",
      "Epoch 33 Loss: 0.0623\n",
      "Epoch 34 Loss: 0.0669\n",
      "Epoch 35 Loss: 0.0584\n",
      "Epoch 36 Loss: 0.0740\n",
      "Epoch 37 Loss: 0.0605\n",
      "Epoch 38 Loss: 0.0500\n",
      "Epoch 39 Loss: 0.0555\n",
      "Epoch 40 Loss: 0.0557\n",
      "Epoch 41 Loss: 0.0553\n",
      "Epoch 42 Loss: 0.0541\n",
      "Epoch 43 Loss: 0.0571\n",
      "Epoch 44 Loss: 0.0465\n",
      "Epoch 45 Loss: 0.0461\n",
      "Epoch 46 Loss: 0.0477\n",
      "Epoch 47 Loss: 0.0543\n",
      "Epoch 48 Loss: 0.0455\n",
      "Epoch 49 Loss: 0.0422\n",
      "Epoch 50 Loss: 0.0492\n",
      "Epoch 51 Loss: 0.0481\n",
      "Epoch 52 Loss: 0.0392\n",
      "Epoch 53 Loss: 0.0427\n",
      "Epoch 54 Loss: 0.0476\n",
      "Epoch 55 Loss: 0.0426\n",
      "Epoch 56 Loss: 0.0407\n",
      "Epoch 57 Loss: 0.0377\n",
      "Epoch 58 Loss: 0.0473\n",
      "Epoch 59 Loss: 0.0410\n",
      "Epoch 60 Loss: 0.0323\n",
      "Epoch 61 Loss: 0.0425\n",
      "Epoch 62 Loss: 0.0377\n",
      "Epoch 63 Loss: 0.0447\n",
      "Epoch 64 Loss: 0.0401\n",
      "Epoch 65 Loss: 0.0342\n",
      "Epoch 66 Loss: 0.0438\n",
      "Epoch 67 Loss: 0.0359\n",
      "Epoch 68 Loss: 0.0357\n",
      "Epoch 69 Loss: 0.0351\n",
      "Epoch 70 Loss: 0.0386\n",
      "Epoch 71 Loss: 0.0403\n",
      "Epoch 72 Loss: 0.0344\n",
      "Epoch 73 Loss: 0.0342\n",
      "Epoch 74 Loss: 0.0322\n",
      "Epoch 75 Loss: 0.0353\n",
      "Epoch 76 Loss: 0.0345\n",
      "Epoch 77 Loss: 0.0323\n",
      "Epoch 78 Loss: 0.0316\n",
      "Epoch 79 Loss: 0.0342\n",
      "Epoch 80 Loss: 0.0321\n",
      "Epoch 81 Loss: 0.0385\n",
      "Epoch 82 Loss: 0.0307\n",
      "Epoch 83 Loss: 0.0298\n",
      "Epoch 84 Loss: 0.0350\n",
      "Epoch 85 Loss: 0.0314\n",
      "Epoch 86 Loss: 0.0325\n",
      "Epoch 87 Loss: 0.0299\n",
      "Epoch 88 Loss: 0.0299\n",
      "Epoch 89 Loss: 0.0366\n",
      "Epoch 90 Loss: 0.0320\n",
      "Epoch 91 Loss: 0.0320\n",
      "Epoch 92 Loss: 0.0298\n",
      "Epoch 93 Loss: 0.0307\n",
      "Epoch 94 Loss: 0.0256\n",
      "Epoch 95 Loss: 0.0289\n",
      "Epoch 96 Loss: 0.0330\n",
      "Epoch 97 Loss: 0.0276\n",
      "Epoch 98 Loss: 0.0288\n",
      "Epoch 99 Loss: 0.0332\n",
      "Epoch 100 Loss: 0.0280\n"
     ]
    }
   ],
   "source": [
    "import torch\n",
    "import torch.nn as nn\n",
    "import torch.optim as optim\n",
    "from torch.utils.data import DataLoader\n",
    "\n",
    "from helper_functions.models.basic_cnn import CharDataset, CNN\n",
    "\n",
    "\n",
    "# Create dataloaders\n",
    "train_loader = DataLoader(CharDataset(X_train, y_train), batch_size=32, shuffle=True)\n",
    "test_loader = DataLoader(CharDataset(X_test, y_test), batch_size=32, shuffle=False)\n",
    "\n",
    "# Initialize model\n",
    "device = torch.device('cuda' if torch.cuda.is_available() else 'cpu')\n",
    "model = CNN(num_classes=len(CHARACTERS)).to(device)\n",
    "criterion = nn.CrossEntropyLoss()\n",
    "optimizer = optim.Adam(model.parameters(), lr=0.001)\n",
    "\n",
    "# Training loop\n",
    "print(\"Training model...\")\n",
    "for epoch in range(100):\n",
    "    model.train()\n",
    "    running_loss = 0.0\n",
    "    for inputs, labels in train_loader:\n",
    "        inputs, labels = inputs.to(device), labels.to(device)\n",
    "    \n",
    "        optimizer.zero_grad()\n",
    "        outputs = model(inputs)\n",
    "        loss = criterion(outputs, labels)\n",
    "        loss.backward()\n",
    "        optimizer.step()\n",
    "        \n",
    "        running_loss += loss.item() * inputs.size(0)\n",
    "    \n",
    "    print(f\"Epoch {epoch+1} Loss: {running_loss/len(train_loader.dataset):.4f}\")\n"
   ]
  },
  {
   "cell_type": "code",
   "execution_count": 6,
   "metadata": {},
   "outputs": [
    {
     "name": "stdout",
     "output_type": "stream",
     "text": [
      "\n",
      "Character-Level Evaluation:\n",
      "Accuracy: 0.8036\n",
      "Precision: 0.8080\n",
      "Recall: 0.8011\n",
      "F1: 0.8034\n",
      "\n",
      "Captcha-Level Evaluation:\n"
     ]
    },
    {
     "name": "stderr",
     "output_type": "stream",
     "text": [
      "Evaluating CAPTCHAs: 100%|██████████| 1894/1894 [00:17<00:00, 105.83it/s]"
     ]
    },
    {
     "name": "stdout",
     "output_type": "stream",
     "text": [
      "Accuracy: 0.3036\n"
     ]
    },
    {
     "name": "stderr",
     "output_type": "stream",
     "text": [
      "\n"
     ]
    }
   ],
   "source": [
    "from helper_functions.models.basic_cnn import evaluate_character_level, evaluate_captcha_level\n",
    "\n",
    "\"\"\"\n",
    "3. Evaluate basic CNN model\n",
    "\"\"\"\n",
    "print(\"\\nCharacter-Level Evaluation:\")\n",
    "char_metrics = evaluate_character_level(model, test_loader, device)\n",
    "for metric, value in char_metrics.items():\n",
    "    print(f\"{metric.capitalize()}: {value:.4f}\")\n",
    "\n",
    "print(\"\\nCaptcha-Level Evaluation:\")\n",
    "captcha_acc = evaluate_captcha_level(model, test_folder, device)\n",
    "print(f\"Accuracy: {captcha_acc:.4f}\")"
   ]
  },
  {
   "cell_type": "code",
   "execution_count": null,
   "metadata": {},
   "outputs": [],
   "source": []
  }
 ],
 "metadata": {
  "kernelspec": {
   "display_name": "venv",
   "language": "python",
   "name": "python3"
  },
  "language_info": {
   "codemirror_mode": {
    "name": "ipython",
    "version": 3
   },
   "file_extension": ".py",
   "mimetype": "text/x-python",
   "name": "python",
   "nbconvert_exporter": "python",
   "pygments_lexer": "ipython3",
   "version": "3.10.1"
  }
 },
 "nbformat": 4,
 "nbformat_minor": 2
}
