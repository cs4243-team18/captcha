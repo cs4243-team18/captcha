{
  "cells": [
    {
      "cell_type": "markdown",
      "metadata": {},
      "source": [
        "# Basic CNN Pipeline"
      ]
    },
    {
      "cell_type": "markdown",
      "metadata": {},
      "source": [
        "### 1. Load CATPCHA images and get the transformed (X,y) data"
      ]
    },
    {
      "cell_type": "code",
      "execution_count": 1,
      "metadata": {},
      "outputs": [
        {
          "name": "stdout",
          "output_type": "stream",
          "text": [
            "Preparing training data...\n"
          ]
        },
        {
          "name": "stderr",
          "output_type": "stream",
          "text": [
            "Preparing Data: 100%|██████████| 7437/7437 [00:18<00:00, 392.64it/s]\n"
          ]
        },
        {
          "name": "stdout",
          "output_type": "stream",
          "text": [
            "Preparing test data...\n"
          ]
        },
        {
          "name": "stderr",
          "output_type": "stream",
          "text": [
            "Preparing Data: 100%|██████████| 1894/1894 [00:04<00:00, 398.72it/s]\n"
          ]
        }
      ],
      "source": [
        "import torch\n",
        "import numpy as np\n",
        "\n",
        "from helper_functions.data_transformation import (\n",
        "    get_transformed_data, CHARACTERS, \n",
        ")\n",
        "\n",
        "train_folder = \"../data/train/combine\"\n",
        "test_folder = \"../data/test/combine\"\n",
        "\n",
        "print(\"Preparing training data...\")\n",
        "X_train, y_train_onehot, _, _, _ = get_transformed_data(train_folder)\n",
        "y_train = torch.tensor(np.argmax(y_train_onehot, axis=1), dtype=torch.long)\n",
        "\n",
        "print(\"Preparing test data...\")\n",
        "X_test, y_test_onehot, _, _, _= get_transformed_data(test_folder)\n",
        "y_test = torch.tensor(np.argmax(y_test_onehot, axis=1), dtype=torch.long)"
      ]
    },
    {
      "cell_type": "markdown",
      "metadata": {},
      "source": [
        "### 2. Instantiate basic CNN model and train it"
      ]
    },
    {
      "cell_type": "code",
      "execution_count": null,
      "metadata": {},
      "outputs": [
        {
          "name": "stdout",
          "output_type": "stream",
          "text": [
            "Training model...\n",
            "Epoch 1 Loss: 1.5256\n",
            "Epoch 2 Loss: 0.8212\n",
            "Epoch 3 Loss: 0.6409\n",
            "Epoch 4 Loss: 0.5378\n",
            "Epoch 5 Loss: 0.4587\n",
            "Epoch 6 Loss: 0.3953\n",
            "Epoch 7 Loss: 0.3424\n",
            "Epoch 8 Loss: 0.2939\n",
            "Epoch 9 Loss: 0.2593\n"
          ]
        }
      ],
      "source": [
        "import torch\n",
        "import torch.nn as nn\n",
        "import torch.optim as optim\n",
        "from torch.utils.data import DataLoader\n",
        "\n",
        "from helper_functions.models.basic_cnn import CharDataset, CNN\n",
        "\n",
        "\n",
        "# Create dataloaders\n",
        "train_loader = DataLoader(CharDataset(X_train, y_train), batch_size=32, shuffle=True)\n",
        "test_loader = DataLoader(CharDataset(X_test, y_test), batch_size=32, shuffle=False)\n",
        "\n",
        "# Initialize model\n",
        "device = torch.device('cuda' if torch.cuda.is_available() else 'cpu')\n",
        "model = CNN(num_classes=len(CHARACTERS)).to(device)\n",
        "criterion = nn.CrossEntropyLoss()\n",
        "optimizer = optim.Adam(model.parameters(), lr=0.001)\n",
        "\n",
        "# Training loop\n",
        "print(\"Training model...\")\n",
        "for epoch in range(100):\n",
        "    model.train()\n",
        "    running_loss = 0.0\n",
        "    for inputs, labels in train_loader:\n",
        "        inputs, labels = inputs.to(device), labels.to(device)\n",
        "    \n",
        "        optimizer.zero_grad()\n",
        "        outputs = model(inputs)\n",
        "        loss = criterion(outputs, labels)\n",
        "        loss.backward()\n",
        "        optimizer.step()\n",
        "        \n",
        "        running_loss += loss.item() * inputs.size(0)\n",
        "    \n",
        "    print(f\"Epoch {epoch+1} Loss: {running_loss/len(train_loader.dataset):.4f}\")\n"
      ]
    },
    {
      "cell_type": "code",
      "execution_count": 6,
      "metadata": {},
      "outputs": [
        {
          "name": "stdout",
          "output_type": "stream",
          "text": [
            "\n",
            "Character-Level Evaluation:\n",
            "Accuracy: 0.8036\n",
            "Precision: 0.8080\n",
            "Recall: 0.8011\n",
            "F1: 0.8034\n",
            "\n",
            "Captcha-Level Evaluation:\n"
          ]
        },
        {
          "name": "stderr",
          "output_type": "stream",
          "text": [
            "Evaluating CAPTCHAs: 100%|██████████| 1894/1894 [00:17<00:00, 105.83it/s]"
          ]
        },
        {
          "name": "stdout",
          "output_type": "stream",
          "text": [
            "Accuracy: 0.3036\n"
          ]
        },
        {
          "name": "stderr",
          "output_type": "stream",
          "text": [
            "\n"
          ]
        }
      ],
      "source": [
        "from helper_functions.models.basic_cnn import evaluate_character_level, evaluate_captcha_level\n",
        "\n",
        "\"\"\"\n",
        "3. Evaluate basic CNN model\n",
        "\"\"\"\n",
        "print(\"\\nCharacter-Level Evaluation:\")\n",
        "char_metrics = evaluate_character_level(model, test_loader, device)\n",
        "for metric, value in char_metrics.items():\n",
        "    print(f\"{metric.capitalize()}: {value:.4f}\")\n",
        "\n",
        "print(\"\\nCaptcha-Level Evaluation:\")\n",
        "captcha_acc = evaluate_captcha_level(model, test_folder, device)\n",
        "print(f\"Accuracy: {captcha_acc:.4f}\")"
      ]
    },
    {
      "cell_type": "code",
      "execution_count": null,
      "metadata": {},
      "outputs": [],
      "source": []
    }
  ],
  "metadata": {
    "kernelspec": {
      "display_name": "venv",
      "language": "python",
      "name": "python3"
    },
    "language_info": {
      "codemirror_mode": {
        "name": "ipython",
        "version": 3
      },
      "file_extension": ".py",
      "mimetype": "text/x-python",
      "name": "python",
      "nbconvert_exporter": "python",
      "pygments_lexer": "ipython3",
      "version": "3.10.1"
    }
  },
  "nbformat": 4,
  "nbformat_minor": 2
}
