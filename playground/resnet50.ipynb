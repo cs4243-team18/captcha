{
 "cells": [
  {
   "cell_type": "code",
   "execution_count": 5,
   "id": "ae0c3643-bd38-42dc-9484-67cc8eff10d4",
   "metadata": {},
   "outputs": [],
   "source": [
    "import torch\n",
    "import cv2\n",
    "import matplotlib.pyplot as plt\n",
    "\n",
    "from helper_functions.preprocessing import replace_black_with_median, preprocess_image\n",
    "from helper_functions.encode import prepare_training_data\n",
    "\n",
    "# Paths\n",
    "TRAIN_FOLDER_PATH = \"../data/train/combine\"\n",
    "TEST_FOLDER_PATH = \"../data/test/combine\""
   ]
  },
  {
   "cell_type": "code",
   "execution_count": 2,
   "id": "5974d899-4f13-4155-bf15-de8ed437b880",
   "metadata": {},
   "outputs": [],
   "source": [
    "# CNN parameters\n",
    "IMG_HEIGHT = 40\n",
    "IMG_WIDTH = 30\n",
    "BATCH_SIZE = 64\n",
    "EPOCHS = 15\n",
    "VALIDATION_SPLIT = 0.2"
   ]
  },
  {
   "cell_type": "code",
   "execution_count": 3,
   "id": "93e6b7d8-6ffb-40b7-a09b-e855a869e11d",
   "metadata": {},
   "outputs": [],
   "source": [
    "img = cv2.imread('../data/train/combine/000s-0.png')\n",
    "processed_img = preprocess_image(img)\n",
    "\n",
    "cv2.imshow('image', processed_img)\n",
    "\n",
    "# Wait for a key press (0 means indefinite wait)\n",
    "cv2.waitKey(0)\n",
    "\n",
    "# Close all OpenCV windows\n",
    "cv2.destroyAllWindows()"
   ]
  },
  {
   "cell_type": "code",
   "execution_count": 6,
   "id": "83a737fb-0a6c-40ff-a94d-6913728439c1",
   "metadata": {},
   "outputs": [
    {
     "name": "stdout",
     "output_type": "stream",
     "text": [
      "Preparing training data...\n"
     ]
    },
    {
     "name": "stderr",
     "output_type": "stream",
     "text": [
      "Preparing Training Data: 100%|████████████████████████████████████████████████████| 7437/7437 [00:28<00:00, 263.54it/s]\n"
     ]
    }
   ],
   "source": [
    "print(\"Preparing training data...\")\n",
    "X_img, X_features, y, feature_names, scaler = prepare_training_data(TRAIN_FOLDER_PATH)"
   ]
  },
  {
   "cell_type": "code",
   "execution_count": 7,
   "id": "8214c005-37b7-4d61-928a-2478fe09b06a",
   "metadata": {},
   "outputs": [
    {
     "data": {
      "text/plain": [
       "<matplotlib.image.AxesImage at 0x20659cf9940>"
      ]
     },
     "execution_count": 7,
     "metadata": {},
     "output_type": "execute_result"
    },
    {
     "data": {
      "image/png": "[encoded data removed]",
      "text/plain": [
       "<Figure size 640x480 with 1 Axes>"
      ]
     },
     "metadata": {},
     "output_type": "display_data"
    }
   ],
   "source": [
    "X_img[]"
   ]
  }
 ],
 "metadata": {
  "kernelspec": {
   "display_name": "Python 3 (ipykernel)",
   "language": "python",
   "name": "python3"
  },
  "language_info": {
   "codemirror_mode": {
    "name": "ipython",
    "version": 3
   },
   "file_extension": ".py",
   "mimetype": "text/x-python",
   "name": "python",
   "nbconvert_exporter": "python",
   "pygments_lexer": "ipython3",
   "version": "3.12.3"
  }
 },
 "nbformat": 4,
 "nbformat_minor": 5
}
