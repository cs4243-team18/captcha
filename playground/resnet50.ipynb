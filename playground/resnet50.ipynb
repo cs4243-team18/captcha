{
 "cells": [
  {
   "cell_type": "code",
   "execution_count": 1,
   "id": "ae0c3643-bd38-42dc-9484-67cc8eff10d4",
   "metadata": {},
   "outputs": [],
   "source": [
    "import torch\n",
    "import cv2\n",
    "import numpy as np\n",
    "import matplotlib.pyplot as plt\n",
    "import torchvision.models as models\n",
    "import torch.nn as nn\n",
    "import torch.optim as optim\n",
    "\n",
    "from helper_functions.preprocessing import replace_black_with_median, preprocess_image\n",
    "from helper_functions.encode import prepare_training_data\n",
    "from helper_functions.encode import CHARACTERS\n",
    "from helper_functions.encode import IMG_HEIGHT, IMG_WIDTH\n",
    "from helper_functions.recognition import HybridResNet50\n",
    "\n",
    "# Paths\n",
    "TRAIN_FOLDER_PATH = \"../data/train/combine\"\n",
    "TEST_FOLDER_PATH = \"../data/test/combine\""
   ]
  },
  {
   "cell_type": "code",
   "execution_count": 10,
   "id": "5974d899-4f13-4155-bf15-de8ed437b880",
   "metadata": {},
   "outputs": [],
   "source": [
    "# CNN parameters\n",
    "BATCH_SIZE = 64\n",
    "EPOCHS = 15\n",
    "VALIDATION_SPLIT = 0.2"
   ]
  },
  {
   "cell_type": "code",
   "execution_count": 3,
   "id": "93e6b7d8-6ffb-40b7-a09b-e855a869e11d",
   "metadata": {},
   "outputs": [],
   "source": [
    "img = cv2.imread('../data/train/combine/000s-0.png')\n",
    "processed_img = preprocess_image(img)\n",
    "\n",
    "cv2.imshow('image', processed_img)\n",
    "\n",
    "# Wait for a key press (0 means indefinite wait)\n",
    "cv2.waitKey(0)\n",
    "\n",
    "# Close all OpenCV windows\n",
    "cv2.destroyAllWindows()"
   ]
  },
  {
   "cell_type": "markdown",
   "id": "9fa3305a-3b94-458e-8450-1061d07841d6",
   "metadata": {},
   "source": [
    "# Load Training Data"
   ]
  },
  {
   "cell_type": "code",
   "execution_count": 2,
   "id": "83a737fb-0a6c-40ff-a94d-6913728439c1",
   "metadata": {},
   "outputs": [
    {
     "name": "stdout",
     "output_type": "stream",
     "text": [
      "Preparing training data...\n"
     ]
    },
    {
     "name": "stderr",
     "output_type": "stream",
     "text": [
      "Preparing Training Data: 100%|████████████████████████████████████████████████████| 7437/7437 [00:27<00:00, 272.90it/s]\n"
     ]
    }
   ],
   "source": [
    "print(\"Preparing training data...\")\n",
    "X_img, X_features, y, feature_names, scaler = prepare_training_data(TRAIN_FOLDER_PATH)"
   ]
  },
  {
   "cell_type": "markdown",
   "id": "a7777578-5d62-42ae-ae25-1ad2d7664b22",
   "metadata": {},
   "source": [
    "# RESNET Model\n"
   ]
  },
  {
   "cell_type": "code",
   "execution_count": 17,
   "id": "3e9f7f2f-5453-46ba-9be1-4aca730ef488",
   "metadata": {},
   "outputs": [],
   "source": [
    "class HybridResNet50(nn.Module):\n",
    "    def __init__(self, input_size = (IMG_HEIGHT, IMG_WIDTH), output_size = len(CHARACTERS), pretrained=True):\n",
    "        super(HybridResNet50, self).__init__()\n",
    "\n",
    "        # Initialize ResNet50 with pretrained weights (optional)\n",
    "        self.resnet = models.resnet50(pretrained=pretrained)\n",
    "\n",
    "        # Modify output layer\n",
    "        num_ftrs = self.resnet.fc.in_features  # Get the number of input features to the FC layer\n",
    "        self.resnet.fc = nn.Linear(num_ftrs, output_size)  # Replace FC layer with 128 output units\n",
    "\n",
    "        # Modify first conv layer\n",
    "        self.resnet.conv1 = nn.Conv2d(in_channels=1, out_channels=64, kernel_size=3, stride=1, padding=1, bias=False)\n",
    " \n",
    "    def forward(self, x):\n",
    "        return self.resnet(x)\n",
    "\n",
    "    def train_model(self, train_loader, num_epochs=5):\n",
    "        self.train()  # Set to training mode\n",
    "\n",
    "        # Define loss function and optimizer\n",
    "        criterion = nn.CrossEntropyLoss()  # For multi-class classification\n",
    "        optimizer = optim.Adam(self.parameters(), lr=0.001)  # Adam optimizer\n",
    "\n",
    "        for epoch in range(num_epochs):\n",
    "            running_loss = 0.0\n",
    "            for images, labels in train_loader:\n",
    "                optimizer.zero_grad()  # Zero the gradients for the optimizer\n",
    "                outputs = self(images)  # Forward pass\n",
    "                loss = criterion(outputs, labels)  # Compute the loss\n",
    "                loss.backward()  # Backpropagate the loss\n",
    "                optimizer.step()  # Update the model parameters\n",
    "\n",
    "                running_loss += loss.item()  # Accumulate the loss\n",
    "\n",
    "            print(f\"Epoch [{epoch+1}/{num_epochs}], Loss: {running_loss/len(train_loader):.4f}\")\n",
    "\n",
    "        print(\"Training complete!\")\n",
    "\n",
    "    def evaluate(self, test_loader):\n",
    "        self.eval()  # Set to evaluation mode\n",
    "        \n",
    "        correct = 0\n",
    "        total = 0\n",
    "        running_loss = 0.0\n",
    "        criterion = nn.CrossEntropyLoss()\n",
    "\n",
    "        with torch.no_grad():  # No need to track gradients during evaluation\n",
    "            for images, labels in test_loader:\n",
    "                outputs = self(images)  # Forward pass\n",
    "                loss = criterion(outputs, labels)  # Compute the loss\n",
    "                running_loss += loss.item()  # Accumulate the loss\n",
    "\n",
    "                # Get the predicted class\n",
    "                _, predicted = torch.max(outputs.data, 1)\n",
    "                total += labels.size(0)\n",
    "                correct += (predicted == labels).sum().item()\n",
    "\n",
    "        print(f\"Test Loss: {running_loss/len(test_loader):.4f}\")\n",
    "        print(f\"Accuracy: {100 * correct / total:.2f}%\")"
   ]
  },
  {
   "cell_type": "code",
   "execution_count": 3,
   "id": "0a86c0b5-51ca-4097-ac73-d91aeba1d896",
   "metadata": {},
   "outputs": [],
   "source": [
    "model = HybridResNet50()"
   ]
  },
  {
   "cell_type": "code",
   "execution_count": 4,
   "id": "c799d50a-bdfe-4388-a95a-ab326be06c39",
   "metadata": {},
   "outputs": [
    {
     "data": {
      "text/plain": [
       "tensor([[-0.0616, -0.3025,  0.3264, -0.0740, -0.2705, -0.0918, -0.2742, -0.1718,\n",
       "          0.0908, -0.1919,  0.1388,  0.1345,  0.0328, -0.1526, -0.2739, -0.4799,\n",
       "         -0.2403,  0.2811, -0.1265,  0.1999,  0.2659, -0.2771, -0.1506, -0.3430,\n",
       "         -0.1190, -0.1869,  0.0074, -0.0092, -0.1018, -0.0797,  0.2677,  0.1126,\n",
       "          0.1842,  0.0562, -0.1203,  0.0463]], grad_fn=<AddmmBackward0>)"
      ]
     },
     "execution_count": 4,
     "metadata": {},
     "output_type": "execute_result"
    }
   ],
   "source": [
    "model(torch.from_numpy(X_img[0]).unsqueeze(0))"
   ]
  },
  {
   "cell_type": "code",
   "execution_count": null,
   "id": "0876b28b-1191-42bb-8c4a-c99e14312cf6",
   "metadata": {},
   "outputs": [],
   "source": []
  }
 ],
 "metadata": {
  "kernelspec": {
   "display_name": "Python 3 (ipykernel)",
   "language": "python",
   "name": "python3"
  },
  "language_info": {
   "codemirror_mode": {
    "name": "ipython",
    "version": 3
   },
   "file_extension": ".py",
   "mimetype": "text/x-python",
   "name": "python",
   "nbconvert_exporter": "python",
   "pygments_lexer": "ipython3",
   "version": "3.12.3"
  }
 },
 "nbformat": 4,
 "nbformat_minor": 5
}
