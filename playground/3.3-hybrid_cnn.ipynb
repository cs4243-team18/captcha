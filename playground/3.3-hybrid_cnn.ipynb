{
 "cells": [
  {
   "cell_type": "markdown",
   "metadata": {},
   "source": [
    "# Hybrid CNN pipeline"
   ]
  },
  {
   "cell_type": "markdown",
   "metadata": {},
   "source": [
    "### 1. Load CATPCHA images and get the transformed (X,y) data"
   ]
  },
  {
   "cell_type": "code",
   "execution_count": 2,
   "metadata": {},
   "outputs": [
    {
     "name": "stdout",
     "output_type": "stream",
     "text": [
      "Preparing training data...\n"
     ]
    },
    {
     "name": "stderr",
     "output_type": "stream",
     "text": [
      "Preparing Data: 100%|██████████| 7437/7437 [00:27<00:00, 275.39it/s]\n"
     ]
    },
    {
     "name": "stdout",
     "output_type": "stream",
     "text": [
      "Preparing test data...\n"
     ]
    },
    {
     "name": "stderr",
     "output_type": "stream",
     "text": [
      "Preparing Data: 100%|██████████| 1894/1894 [00:07<00:00, 251.54it/s]\n"
     ]
    }
   ],
   "source": [
    "import torch\n",
    "import numpy as np\n",
    "\n",
    "from helper_functions.data_transformation import (\n",
    "    get_transformed_data, CHARACTERS, \n",
    ")\n",
    "\n",
    "train_folder = \"../data/train/combine\"\n",
    "test_folder = \"../data/test/combine\"\n",
    "\n",
    "print(\"Preparing training data...\")\n",
    "X_train, y_train_onehot, X_features_train, feature_names, scaler = get_transformed_data(train_folder)\n",
    "y_train = torch.tensor(np.argmax(y_train_onehot, axis=1), dtype=torch.long)\n",
    "\n",
    "print(\"Preparing test data...\")\n",
    "X_test,y_test_onehot, X_features_test, _, _ = get_transformed_data(test_folder)\n",
    "y_test = torch.tensor(np.argmax(y_test_onehot, axis=1), dtype=torch.long)"
   ]
  },
  {
   "cell_type": "markdown",
   "metadata": {},
   "source": [
    "### 2. Instantiate Hybrid CNN model and train it"
   ]
  },
  {
   "cell_type": "code",
   "execution_count": 2,
   "metadata": {},
   "outputs": [
    {
     "name": "stdout",
     "output_type": "stream",
     "text": [
      "Training model...\n",
      "Epoch 1 Loss: 1.5133\n",
      "Epoch 2 Loss: 0.7912\n",
      "Epoch 3 Loss: 0.6125\n",
      "Epoch 4 Loss: 0.5055\n",
      "Epoch 5 Loss: 0.4340\n",
      "Epoch 6 Loss: 0.3780\n",
      "Epoch 7 Loss: 0.3307\n",
      "Epoch 8 Loss: 0.2861\n",
      "Epoch 9 Loss: 0.2547\n",
      "Epoch 10 Loss: 0.2279\n",
      "Epoch 11 Loss: 0.1998\n",
      "Epoch 12 Loss: 0.1824\n",
      "Epoch 13 Loss: 0.1669\n",
      "Epoch 14 Loss: 0.1450\n",
      "Epoch 15 Loss: 0.1347\n",
      "Epoch 16 Loss: 0.1252\n",
      "Epoch 17 Loss: 0.1127\n",
      "Epoch 18 Loss: 0.1094\n",
      "Epoch 19 Loss: 0.1004\n",
      "Epoch 20 Loss: 0.1007\n",
      "Epoch 21 Loss: 0.0903\n",
      "Epoch 22 Loss: 0.0833\n",
      "Epoch 23 Loss: 0.0786\n",
      "Epoch 24 Loss: 0.0835\n",
      "Epoch 25 Loss: 0.0730\n",
      "Epoch 26 Loss: 0.0707\n",
      "Epoch 27 Loss: 0.0661\n",
      "Epoch 28 Loss: 0.0671\n",
      "Epoch 29 Loss: 0.0662\n",
      "Epoch 30 Loss: 0.0648\n",
      "Epoch 31 Loss: 0.0527\n",
      "Epoch 32 Loss: 0.0554\n",
      "Epoch 33 Loss: 0.0580\n",
      "Epoch 34 Loss: 0.0578\n",
      "Epoch 35 Loss: 0.0521\n",
      "Epoch 36 Loss: 0.0495\n",
      "Epoch 37 Loss: 0.0458\n",
      "Epoch 38 Loss: 0.0531\n",
      "Epoch 39 Loss: 0.0424\n",
      "Epoch 40 Loss: 0.0509\n",
      "Epoch 41 Loss: 0.0449\n",
      "Epoch 42 Loss: 0.0462\n",
      "Epoch 43 Loss: 0.0413\n",
      "Epoch 44 Loss: 0.0443\n",
      "Epoch 45 Loss: 0.0489\n",
      "Epoch 46 Loss: 0.0463\n",
      "Epoch 47 Loss: 0.0347\n",
      "Epoch 48 Loss: 0.0366\n",
      "Epoch 49 Loss: 0.0449\n",
      "Epoch 50 Loss: 0.0402\n",
      "Epoch 51 Loss: 0.0396\n",
      "Epoch 52 Loss: 0.0387\n",
      "Epoch 53 Loss: 0.0376\n",
      "Epoch 54 Loss: 0.0356\n",
      "Epoch 55 Loss: 0.0341\n",
      "Epoch 56 Loss: 0.0360\n",
      "Epoch 57 Loss: 0.0368\n",
      "Epoch 58 Loss: 0.0338\n",
      "Epoch 59 Loss: 0.0361\n",
      "Epoch 60 Loss: 0.0408\n",
      "Epoch 61 Loss: 0.0341\n",
      "Epoch 62 Loss: 0.0294\n",
      "Epoch 63 Loss: 0.0304\n",
      "Epoch 64 Loss: 0.0301\n",
      "Epoch 65 Loss: 0.0324\n",
      "Epoch 66 Loss: 0.0343\n",
      "Epoch 67 Loss: 0.0208\n",
      "Epoch 68 Loss: 0.0418\n",
      "Epoch 69 Loss: 0.0341\n",
      "Epoch 70 Loss: 0.0260\n",
      "Epoch 71 Loss: 0.0255\n",
      "Epoch 72 Loss: 0.0349\n",
      "Epoch 73 Loss: 0.0276\n",
      "Epoch 74 Loss: 0.0313\n",
      "Epoch 75 Loss: 0.0274\n",
      "Epoch 76 Loss: 0.0297\n",
      "Epoch 77 Loss: 0.0254\n",
      "Epoch 78 Loss: 0.0324\n",
      "Epoch 79 Loss: 0.0325\n",
      "Epoch 80 Loss: 0.0215\n",
      "Epoch 81 Loss: 0.0260\n",
      "Epoch 82 Loss: 0.0331\n",
      "Epoch 83 Loss: 0.0294\n",
      "Epoch 84 Loss: 0.0235\n",
      "Epoch 85 Loss: 0.0231\n",
      "Epoch 86 Loss: 0.0305\n",
      "Epoch 87 Loss: 0.0263\n",
      "Epoch 88 Loss: 0.0255\n",
      "Epoch 89 Loss: 0.0252\n",
      "Epoch 90 Loss: 0.0308\n",
      "Epoch 91 Loss: 0.0296\n",
      "Epoch 92 Loss: 0.0282\n",
      "Epoch 93 Loss: 0.0194\n",
      "Epoch 94 Loss: 0.0302\n",
      "Epoch 95 Loss: 0.0282\n",
      "Epoch 96 Loss: 0.0177\n",
      "Epoch 97 Loss: 0.0256\n",
      "Epoch 98 Loss: 0.0319\n",
      "Epoch 99 Loss: 0.0234\n",
      "Epoch 100 Loss: 0.0292\n"
     ]
    }
   ],
   "source": [
    "import torch\n",
    "import torch.nn as nn\n",
    "import torch.optim as optim\n",
    "from torch.utils.data import DataLoader\n",
    "\n",
    "from helper_functions.models.hybrid_cnn import HybridDataset, HybridCNN\n",
    "\n",
    "# Create dataloaders\n",
    "train_loader = DataLoader(\n",
    "    HybridDataset(X_train, X_features_train, y_train), \n",
    "    batch_size=32, shuffle=True\n",
    ")\n",
    "test_loader = DataLoader(\n",
    "    HybridDataset(X_test, X_features_test, y_test), \n",
    "    batch_size=32, shuffle=False\n",
    ")\n",
    "\n",
    "# Initialize model\n",
    "device = torch.device('cuda' if torch.cuda.is_available() else 'cpu')\n",
    "model = HybridCNN(num_classes=len(CHARACTERS), num_features=len(feature_names)).to(device)\n",
    "criterion = nn.CrossEntropyLoss()\n",
    "optimizer = optim.Adam(model.parameters(), lr=0.001)\n",
    "\n",
    "# Training loop\n",
    "print(\"Training model...\")\n",
    "for epoch in range(100):\n",
    "    model.train()\n",
    "    running_loss = 0.0\n",
    "    for (inputs_img, inputs_features), labels in train_loader:\n",
    "        inputs_img = inputs_img.to(device)\n",
    "        inputs_features = inputs_features.to(device)\n",
    "        labels = labels.to(device)\n",
    "    \n",
    "        optimizer.zero_grad()\n",
    "        outputs = model(inputs_img, inputs_features)\n",
    "        loss = criterion(outputs, labels)\n",
    "        loss.backward()\n",
    "        optimizer.step()\n",
    "        \n",
    "        running_loss += loss.item() * inputs_img.size(0)\n",
    "    \n",
    "    print(f\"Epoch {epoch+1} Loss: {running_loss/len(train_loader.dataset):.4f}\")"
   ]
  },
  {
   "cell_type": "markdown",
   "metadata": {},
   "source": [
    "### 3. Evaluation"
   ]
  },
  {
   "cell_type": "code",
   "execution_count": 3,
   "metadata": {},
   "outputs": [
    {
     "name": "stdout",
     "output_type": "stream",
     "text": [
      "\n",
      "Character-Level Evaluation:\n",
      "Accuracy: 0.8108\n",
      "Precision: 0.8116\n",
      "Recall: 0.8105\n",
      "F1: 0.8091\n",
      "\n",
      "Captcha-Level Evaluation:\n"
     ]
    },
    {
     "name": "stderr",
     "output_type": "stream",
     "text": [
      "Evaluating CAPTCHAs: 100%|██████████| 1894/1894 [00:35<00:00, 53.58it/s]"
     ]
    },
    {
     "name": "stdout",
     "output_type": "stream",
     "text": [
      "Accuracy: 0.3099\n"
     ]
    },
    {
     "name": "stderr",
     "output_type": "stream",
     "text": [
      "\n"
     ]
    }
   ],
   "source": [
    "from helper_functions.models.hybrid_cnn import evaluate_captcha_level, evaluate_character_level\n",
    "\n",
    "# Evaluation\n",
    "print(\"\\nCharacter-Level Evaluation:\")\n",
    "char_metrics = evaluate_character_level(model, test_loader, device)\n",
    "for metric, value in char_metrics.items():\n",
    "    print(f\"{metric.capitalize()}: {value:.4f}\")\n",
    "\n",
    "print(\"\\nCaptcha-Level Evaluation:\")\n",
    "captcha_acc = evaluate_captcha_level(model, test_folder, device, scaler, feature_names)\n",
    "print(f\"Accuracy: {captcha_acc:.4f}\")"
   ]
  },
  {
   "cell_type": "code",
   "execution_count": null,
   "metadata": {},
   "outputs": [],
   "source": []
  }
 ],
 "metadata": {
  "kernelspec": {
   "display_name": "venv",
   "language": "python",
   "name": "python3"
  },
  "language_info": {
   "codemirror_mode": {
    "name": "ipython",
    "version": 3
   },
   "file_extension": ".py",
   "mimetype": "text/x-python",
   "name": "python",
   "nbconvert_exporter": "python",
   "pygments_lexer": "ipython3",
   "version": "3.10.1"
  }
 },
 "nbformat": 4,
 "nbformat_minor": 2
}
