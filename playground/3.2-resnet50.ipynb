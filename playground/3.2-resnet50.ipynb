{
 "cells": [
  {
   "cell_type": "markdown",
   "id": "2d231242-e138-493f-90f0-feeab3b20917",
   "metadata": {},
   "source": [
    "# 1. Load CATPCHA images and get the transformed (X,y) data"
   ]
  },
  {
   "cell_type": "code",
   "execution_count": 2,
   "id": "c3757c12-1d0f-466c-8a93-3c5fccbf3f86",
   "metadata": {},
   "outputs": [
    {
     "name": "stderr",
     "output_type": "stream",
     "text": [
      "C:\\Users\\ongka\\AppData\\Local\\Temp\\ipykernel_26064\\4202067423.py:11: FutureWarning: You are using `torch.load` with `weights_only=False` (the current default value), which uses the default pickle module implicitly. It is possible to construct malicious pickle data which will execute arbitrary code during unpickling (See https://github.com/pytorch/pytorch/blob/main/SECURITY.md#untrusted-models for more details). In a future release, the default value for `weights_only` will be flipped to `True`. This limits the functions that could be executed during unpickling. Arbitrary objects will no longer be allowed to be loaded via this mode unless they are explicitly allowlisted by the user via `torch.serialization.add_safe_globals`. We recommend you start setting `weights_only=True` for any use case where you don't have full control of the loaded file. Please open an issue on GitHub for any issues related to this experimental feature.\n",
      "  X_train, y_train, X_test, y_test, X_test_captcha, y_test_captcha, failed_segmentation_info = torch.load(cached_data_path)\n"
     ]
    },
    {
     "name": "stdout",
     "output_type": "stream",
     "text": [
      "Loaded prepared data from cache.\n"
     ]
    }
   ],
   "source": [
    "import torch\n",
    "\n",
    "from helper_functions.data_transformation import get_transformed_data_v2, get_transformed_data_for_captcha_evaluation\n",
    "\n",
    "train_folder = \"../data/train/combine\"\n",
    "test_folder = \"../data/test/combine\"\n",
    "cached_data_path = \"../data/prepared_data_cnn_v2.pth\"\n",
    "\n",
    "try:\n",
    "    # Load the prepared data from cache if it already exists\n",
    "    X_train, y_train, X_test, y_test, X_test_captcha, y_test_captcha, failed_segmentation_info = torch.load(cached_data_path)\n",
    "    print(\"Loaded prepared data from cache.\")\n",
    "\n",
    "except FileNotFoundError:\n",
    "    # Else prepare the data and save it\n",
    "    X_train, y_train = get_transformed_data_v2(train_folder, is_train=True)\n",
    "    X_test, y_test = get_transformed_data_v2(test_folder, is_train=False)\n",
    "    X_test_captcha, y_test_captcha, failed_segmentation_info = get_transformed_data_for_captcha_evaluation(test_folder)\n",
    "\n",
    "    torch.save((X_train, y_train, X_test, y_test, X_test_captcha, y_test_captcha, failed_segmentation_info), cached_data_path)\n",
    "    print(\"Saved prepared data to cache.\")\n"
   ]
  },
  {
   "cell_type": "markdown",
   "id": "a7777578-5d62-42ae-ae25-1ad2d7664b22",
   "metadata": {},
   "source": [
    "# 2. Instantiate RESNET Model\n"
   ]
  },
  {
   "cell_type": "code",
   "execution_count": 30,
   "id": "cf7fbb2b-2985-4227-bfdb-8f17235aea83",
   "metadata": {},
   "outputs": [
    {
     "name": "stderr",
     "output_type": "stream",
     "text": [
      "C:\\Users\\ongka\\AppData\\Local\\Temp\\ipykernel_26064\\1076884564.py:19: FutureWarning: You are using `torch.load` with `weights_only=False` (the current default value), which uses the default pickle module implicitly. It is possible to construct malicious pickle data which will execute arbitrary code during unpickling (See https://github.com/pytorch/pytorch/blob/main/SECURITY.md#untrusted-models for more details). In a future release, the default value for `weights_only` will be flipped to `True`. This limits the functions that could be executed during unpickling. Arbitrary objects will no longer be allowed to be loaded via this mode unless they are explicitly allowlisted by the user via `torch.serialization.add_safe_globals`. We recommend you start setting `weights_only=True` for any use case where you don't have full control of the loaded file. Please open an issue on GitHub for any issues related to this experimental feature.\n",
      "  resnet = torch.load(cached_model_path)\n"
     ]
    },
    {
     "name": "stdout",
     "output_type": "stream",
     "text": [
      "Epoch [1/20], Loss: 0.8782\n",
      "Epoch [2/20], Loss: 0.3884\n",
      "Epoch [3/20], Loss: 0.3049\n",
      "Epoch [4/20], Loss: 0.2501\n",
      "Epoch [5/20], Loss: 0.2013\n",
      "Epoch [6/20], Loss: 0.1791\n",
      "Epoch [7/20], Loss: 0.1550\n",
      "Epoch [8/20], Loss: 0.1347\n",
      "Epoch [9/20], Loss: 0.1274\n",
      "Epoch [10/20], Loss: 0.1186\n",
      "Epoch [11/20], Loss: 0.0981\n",
      "Epoch [12/20], Loss: 0.0944\n",
      "Epoch [13/20], Loss: 0.0894\n",
      "Epoch [14/20], Loss: 0.0779\n",
      "Epoch [15/20], Loss: 0.0721\n",
      "Epoch [16/20], Loss: 0.0742\n",
      "Epoch [17/20], Loss: 0.0710\n",
      "Epoch [18/20], Loss: 0.0610\n",
      "Epoch [19/20], Loss: 0.0551\n",
      "Epoch [20/20], Loss: 0.0465\n",
      "Training complete!\n",
      "Saved trained model to cache.\n"
     ]
    }
   ],
   "source": [
    "from models.resnet import ResNet50, CNNParams\n",
    "from helper_functions.data_transformation import IMG_HEIGHT, IMG_WIDTH\n",
    "\n",
    "# Train model\n",
    "cached_model_path = \"../trained_models/resnet50_v2_86_char_accuracy.pth\"\n",
    "\n",
    "resnet = None\n",
    "\n",
    "cnn_params: CNNParams = {\n",
    "    \"num_classes\": 36,\n",
    "    \"input_shape\": (1, IMG_HEIGHT, IMG_WIDTH), # (channels, height, width)\n",
    "    \"learning_rate\": 1.1*1e-3,\n",
    "    \"num_epochs\": 20,\n",
    "    \"batch_size\": 500,\n",
    "}\n",
    "\n",
    "try:\n",
    "    # Load the trained model from cache if it already exists\n",
    "    resnet = torch.load(cached_model_path)\n",
    "    print(\"Loaded trained model from cache.\")\n",
    "except FileNotFoundError:\n",
    "    # Else train the model and save it\n",
    "    resnet = ResNet50(cnn_params)\n",
    "    resnet.train_model(X_train, y_train)\n",
    "    torch.save(resnet, cached_model_path)\n",
    "    print(\"Saved trained model to cache.\")\n"
   ]
  },
  {
   "cell_type": "markdown",
   "id": "06cceeac-5ca3-4655-a8ba-d3771b734f54",
   "metadata": {},
   "source": [
    "# 3. Evaluate model"
   ]
  },
  {
   "cell_type": "code",
   "execution_count": 31,
   "id": "649eb6be-2bda-45a5-aaf8-7359c8a01d90",
   "metadata": {},
   "outputs": [
    {
     "name": "stdout",
     "output_type": "stream",
     "text": [
      "Character level performance (skipping failed segmentations): {\n",
      "  \"accuracy\": 0.9115130299494361,\n",
      "  \"precision\": 0.914033491952163,\n",
      "  \"recall\": 0.9095050395408215,\n",
      "  \"f1_score\": 0.9107453727646201\n",
      "}\n",
      "\n",
      "Captcha level performance: {\n",
      "  \"segmentation_accuracy\": 0.9091869060190074,\n",
      "  \"captcha_accuracy (skipping SF)\": 0.6387921022067363,\n",
      "  \"captcha_accuracy (including SF)\": 0.5807814149947201,\n",
      "  \"character_accuracy (including SF)\": 0.82663139329806\n",
      "}\n",
      "\n"
     ]
    }
   ],
   "source": [
    "import json\n",
    "from helper_functions.evaluation import evaluate_character_performance, evaluate_captcha_performance\n",
    "\n",
    "character_performance = evaluate_character_performance(resnet, X_test, y_test)\n",
    "print(f\"Character level performance (skipping failed segmentations): {json.dumps(character_performance, indent=2)}\\n\")\n",
    "\n",
    "captcha_performance = evaluate_captcha_performance(resnet, X_test_captcha, y_test_captcha, failed_segmentation_info)"
   ]
  }
 ],
 "metadata": {
  "kernelspec": {
   "display_name": "Python 3 (ipykernel)",
   "language": "python",
   "name": "python3"
  },
  "language_info": {
   "codemirror_mode": {
    "name": "ipython",
    "version": 3
   },
   "file_extension": ".py",
   "mimetype": "text/x-python",
   "name": "python",
   "nbconvert_exporter": "python",
   "pygments_lexer": "ipython3",
   "version": "3.12.3"
  }
 },
 "nbformat": 4,
 "nbformat_minor": 5
}
