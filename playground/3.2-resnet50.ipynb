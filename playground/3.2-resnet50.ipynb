{
 "cells": [
  {
   "cell_type": "code",
   "execution_count": 1,
   "id": "ae0c3643-bd38-42dc-9484-67cc8eff10d4",
   "metadata": {},
   "outputs": [],
   "source": [
    "import torch\n",
    "import cv2\n",
    "import numpy as np\n",
    "import matplotlib.pyplot as plt\n",
    "import torchvision.models as models\n",
    "import torch.nn as nn\n",
    "import torch.optim as optim\n",
    "\n",
    "from helper_functions.preprocessing import replace_black_with_median, preprocess_image_v1\n",
    "from helper_functions.data_transformation import get_transformed_data\n",
    "from helper_functions.models.resnet import HybridResNet50\n",
    "\n",
    "\n",
    "# Paths\n",
    "TRAIN_FOLDER_PATH = \"../data/train/combine\"\n",
    "TEST_FOLDER_PATH = \"../data/test/combine\""
   ]
  },
  {
   "cell_type": "code",
   "execution_count": 2,
   "id": "5974d899-4f13-4155-bf15-de8ed437b880",
   "metadata": {},
   "outputs": [],
   "source": [
    "# CNN parameters\n",
    "BATCH_SIZE = 64\n",
    "EPOCHS = 15\n",
    "VALIDATION_SPLIT = 0.2"
   ]
  },
  {
   "cell_type": "code",
   "execution_count": 4,
   "id": "93e6b7d8-6ffb-40b7-a09b-e855a869e11d",
   "metadata": {},
   "outputs": [],
   "source": [
    "img = cv2.imread('../data/train/combine/000s-0.png')\n",
    "processed_img = preprocess_image_v1(img)\n",
    "\n",
    "cv2.imshow('image', processed_img)\n",
    "\n",
    "# Wait for a key press (0 means indefinite wait)\n",
    "cv2.waitKey(0)\n",
    "\n",
    "# Close all OpenCV windows\n",
    "cv2.destroyAllWindows()"
   ]
  },
  {
   "cell_type": "markdown",
   "id": "9fa3305a-3b94-458e-8450-1061d07841d6",
   "metadata": {},
   "source": [
    "# Load Training Data"
   ]
  },
  {
   "cell_type": "code",
   "execution_count": 3,
   "id": "83a737fb-0a6c-40ff-a94d-6913728439c1",
   "metadata": {},
   "outputs": [
    {
     "name": "stdout",
     "output_type": "stream",
     "text": [
      "Preparing training data...\n"
     ]
    },
    {
     "name": "stderr",
     "output_type": "stream",
     "text": [
      "Preparing Data: 100%|█████████████████████████████████████████████████████████████| 7437/7437 [00:32<00:00, 229.68it/s]\n"
     ]
    }
   ],
   "source": [
    "print(\"Preparing training data...\")\n",
    "X_img, y_onehot, feature_names, X_features, scaler = get_transformed_data(TRAIN_FOLDER_PATH)"
   ]
  },
  {
   "cell_type": "markdown",
   "id": "a7777578-5d62-42ae-ae25-1ad2d7664b22",
   "metadata": {},
   "source": [
    "# RESNET Model\n"
   ]
  },
  {
   "cell_type": "code",
   "execution_count": 4,
   "id": "0a86c0b5-51ca-4097-ac73-d91aeba1d896",
   "metadata": {},
   "outputs": [],
   "source": [
    "model = HybridResNet50()"
   ]
  },
  {
   "cell_type": "code",
   "execution_count": 5,
   "id": "0876b28b-1191-42bb-8c4a-c99e14312cf6",
   "metadata": {},
   "outputs": [
    {
     "name": "stdout",
     "output_type": "stream",
     "text": [
      "torch.Size([1, 2112])\n"
     ]
    },
    {
     "data": {
      "text/plain": [
       "tensor([[ 0.1171, -0.0208, -0.1096,  0.0038, -0.0432,  0.0911, -0.1665,  0.0548,\n",
       "          0.0095,  0.0318, -0.1229,  0.0141,  0.0483,  0.1041,  0.0208,  0.1567,\n",
       "         -0.0105, -0.1032,  0.0182,  0.0535,  0.0118,  0.2354,  0.0773,  0.0660,\n",
       "         -0.0843, -0.0902,  0.0165,  0.0968, -0.0620, -0.0428, -0.0486,  0.0984,\n",
       "          0.0055,  0.0326,  0.1354, -0.0027]], grad_fn=<AddmmBackward0>)"
      ]
     },
     "execution_count": 5,
     "metadata": {},
     "output_type": "execute_result"
    }
   ],
   "source": [
    "model(torch.from_numpy(X_img[0]).unsqueeze(0), torch.from_numpy(X_features[0]).unsqueeze(0))"
   ]
  },
  {
   "cell_type": "code",
   "execution_count": 14,
   "id": "73d3a8c7-94d0-49a9-b7ec-7734faf220ec",
   "metadata": {},
   "outputs": [
    {
     "name": "stdout",
     "output_type": "stream",
     "text": [
      "<class 'numpy.ndarray'>\n"
     ]
    }
   ],
   "source": [
    "print(type(X_features[0]))"
   ]
  }
 ],
 "metadata": {
  "kernelspec": {
   "display_name": "Python 3 (ipykernel)",
   "language": "python",
   "name": "python3"
  },
  "language_info": {
   "codemirror_mode": {
    "name": "ipython",
    "version": 3
   },
   "file_extension": ".py",
   "mimetype": "text/x-python",
   "name": "python",
   "nbconvert_exporter": "python",
   "pygments_lexer": "ipython3",
   "version": "3.12.3"
  }
 },
 "nbformat": 4,
 "nbformat_minor": 5
}
