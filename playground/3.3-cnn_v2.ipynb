{
 "cells": [
  {
   "cell_type": "markdown",
   "metadata": {},
   "source": [
    "### 1. Load and preprocess data"
   ]
  },
  {
   "cell_type": "code",
   "execution_count": null,
   "metadata": {},
   "outputs": [],
   "source": [
    "\n",
    "\n",
    "# Split train and test\n",
    "X_train, X_test, y_train, y_test = train_test_split(X, y, test_size=0.1)\n",
    "\n",
    "# Filter test data that contains no labels\n",
    "# In Coursemology, the test data is guaranteed to have labels\n",
    "not_nan_indices = np.argwhere(~np.isnan(np.array(y_test))).squeeze()\n",
    "y_test = [y_test[i] for i in not_nan_indices]\n",
    "X_test = [X_test[i] for i in not_nan_indices]\n",
    "\n",
    "# Train and predict\n",
    "model = Model()\n",
    "start = time.time()\n",
    "model.fit(X_train, y_train)\n",
    "y_pred = model.predict(X_test)\n",
    "# print(f\"LOOOK!! y_pred is now {y_pred}\")\n",
    "print(f\"losses: {model.epoch_losses}\")\n",
    "end = time.time()\n",
    "print(f\"Time taken: {end - start} s \")\n",
    "# Evaluate model predition\n",
    "# Learn more: https://scikit-learn.org/stable/modules/classes.html#module-sklearn.metrics\n",
    "print(\"F1 Score (macro): {0:.2f}\".format(f1_score(y_test, y_pred, average='macro'))) # You may encounter errors, you are expected to figure out what's the issue.\n",
    "\n",
    "\n"
   ]
  }
 ],
 "metadata": {
  "language_info": {
   "name": "python"
  }
 },
 "nbformat": 4,
 "nbformat_minor": 2
}
